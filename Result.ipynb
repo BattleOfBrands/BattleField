{
 "cells": [
  {
   "cell_type": "code",
   "execution_count": 1,
   "metadata": {},
   "outputs": [],
   "source": [
    "import json;\n",
    "from matplotlib import pyplot as plt\n",
    "import math;\n",
    "import numpy as np;"
   ]
  },
  {
   "cell_type": "code",
   "execution_count": 2,
   "metadata": {},
   "outputs": [],
   "source": [
    "def getJsonResult(file):\n",
    "    f = open(file,'r');\n",
    "    data = json.load(f);\n",
    "    f.close();\n",
    "    return data"
   ]
  },
  {
   "cell_type": "code",
   "execution_count": 3,
   "metadata": {},
   "outputs": [],
   "source": [
    "# Graph-5: Count/min graph for all brands\n",
    "def drawGraphCoutPerMin(resultJson,brandsKey,framePerMin=60):\n",
    "    totalFrames=len(resultJson);\n",
    "    xAxisCount= math.ceil((totalFrames*1.0)/framePerMin)+1;\n",
    "    print(\"totalFrames:\"+str(totalFrames)+\" xAxisCount:\"+str(xAxisCount));\n",
    "    xAxis = np.arange(0,xAxisCount);\n",
    "    yAxis = dict();\n",
    "    xAxisItr=0;\n",
    "    frameItr=0;\n",
    "    for bk in brandsKey:\n",
    "        yAxis[bk]=np.zeros(xAxisCount);\n",
    "    pass;\n",
    "    for fkey in resultJson:\n",
    "        for bk in brandsKey:\n",
    "            yAxis[bk][xAxisItr]+=len(resultJson[fkey][bk]);\n",
    "        pass;\n",
    "        frameItr+=1;\n",
    "        if frameItr%framePerMin == 0:\n",
    "            xAxisItr+=1;\n",
    "        pass;\n",
    "    pass;\n",
    "    # Draw graph\n",
    "    plt.xlabel(\"minute\");\n",
    "    plt.ylabel(\"count\");\n",
    "    plt.title(' Brand count w.r.t time');\n",
    "    for bk in brandsKey:\n",
    "        plt.plot(xAxis,yAxis[bk]);\n",
    "    pass;\n",
    "    plt.legend(brandsKey);\n",
    "    return yAxis;\n",
    "    pass;"
   ]
  },
  {
   "cell_type": "code",
   "execution_count": 4,
   "metadata": {},
   "outputs": [],
   "source": [
    "# Graph-1: Total time a brand came\n",
    "def drawGrapBrandCount(resultJson,brandsKey):\n",
    "    totalFrames=len(resultJson);\n",
    "    xAxisCount= len(brandsKey);\n",
    "    xAxis = np.arange(0,xAxisCount);\n",
    "    yAxis = dict();\n",
    "    for bk in brandsKey:\n",
    "        yAxis[bk]=0;\n",
    "    pass;\n",
    "    for fkey in resultJson:\n",
    "        for bk in brandsKey:\n",
    "            yAxis[bk]+=len(resultJson[fkey][bk]);\n",
    "        pass;\n",
    "    pass;\n",
    "    print(yAxis);\n",
    "    # Draw graph\n",
    "    plt.xlabel(\"brand\");\n",
    "    plt.ylabel(\"count\");\n",
    "    plt.title('Brand Count');\n",
    "    plt.bar(range(len(yAxis)), list(yAxis.values()), align='center')\n",
    "    plt.xticks(range(len(yAxis)), list(yAxis.keys()))\n",
    "    return yAxis;\n",
    "    pass;"
   ]
  },
  {
   "cell_type": "code",
   "execution_count": 13,
   "metadata": {},
   "outputs": [],
   "source": [
    "# Graph-1: Total time a brand came\n",
    "def drawGraphHeatMap(resultJson,brandsKey,dim):\n",
    "    totalFrames=len(resultJson);\n",
    "    width=dim[0];\n",
    "    height=dim[1];\n",
    "    heatmaps = dict();\n",
    "    for bk in brandsKey:\n",
    "        heatmaps[bk]=np.zeros((width,height));\n",
    "    pass;\n",
    "    for fkey in resultJson:\n",
    "        for bk in brandsKey:\n",
    "            hm=heatmaps[bk]\n",
    "            ls = resultJson[fkey][bk];\n",
    "            for r in ls:\n",
    "                x1=r[0];\n",
    "                x2=r[2];\n",
    "                y1=r[1];\n",
    "                y2=r[3];\n",
    "                #print(\"Key: \"+bk+\" x1:\"+str(x1)+\" y1:\"+str(y1)+\" x2:\"+str(x2)+\" y2:\"+str(y2));\n",
    "                hm[x1:x2+1,y1:y2+1] += 1\n",
    "            pass;\n",
    "        pass;\n",
    "    pass;\n",
    "    print(heatmaps[brandsKey[0]]);\n",
    "    print(\"max\",np.amax(heatmaps[brandsKey[0]]));\n",
    "    # Draw graph\n",
    "    img=heatmaps[brandsKey[0]];\n",
    "    plt.imshow(img,cmap=\"hot\");\n",
    "    plt.colorbar()\n",
    "    return heatmaps;\n",
    "    pass;"
   ]
  },
  {
   "cell_type": "code",
   "execution_count": 6,
   "metadata": {},
   "outputs": [
    {
     "data": {
      "text/plain": [
       "{'paytm': [], 'cred': [], 'unacademy': [], 'altroz': [], 'dream11': []}"
      ]
     },
     "execution_count": 6,
     "metadata": {},
     "output_type": "execute_result"
    }
   ],
   "source": [
    "basePath = './result';\n",
    "resultFile = basePath +'/model_result_1.json';\n",
    "jsonResult= getJsonResult(resultFile);\n",
    "jsonResult['/content/drive/My Drive/BattleofBrands/Dataset/data/frame40.jpg']"
   ]
  },
  {
   "cell_type": "code",
   "execution_count": 14,
   "metadata": {},
   "outputs": [
    {
     "name": "stdout",
     "output_type": "stream",
     "text": [
      "[[0. 0. 0. ... 0. 0. 0.]\n",
      " [0. 0. 0. ... 0. 0. 0.]\n",
      " [0. 0. 0. ... 0. 0. 0.]\n",
      " ...\n",
      " [2. 2. 2. ... 0. 0. 0.]\n",
      " [2. 2. 2. ... 0. 0. 0.]\n",
      " [2. 2. 2. ... 0. 0. 0.]]\n",
      "max 25.0\n"
     ]
    },
    {
     "data": {
      "image/png": "[encoded data removed]",
      "text/plain": [
       "<Figure size 432x288 with 2 Axes>"
      ]
     },
     "metadata": {
      "needs_background": "light"
     },
     "output_type": "display_data"
    }
   ],
   "source": [
    "frames=len(jsonResult);\n",
    "brandsKey=['paytm','cred','unacademy','altroz','dream11'];\n",
    "#g1Result=drawGraphCoutPerMin(jsonResult,brandsKey,3);\n",
    "#drawGrapBrandCount(jsonResult,brandsKey);\n",
    "heatmaps=drawGraphHeatMap(jsonResult,brandsKey,[1800,1800]);"
   ]
  },
  {
   "cell_type": "code",
   "execution_count": 35,
   "metadata": {},
   "outputs": [
    {
     "name": "stdout",
     "output_type": "stream",
     "text": [
      "[1 1]\n",
      "[2 3]\n"
     ]
    },
    {
     "data": {
      "text/plain": [
       "array([[ 1,  2,  3,  4,  5],\n",
       "       [ 6,  7,  0,  0, 10]])"
      ]
     },
     "execution_count": 35,
     "metadata": {},
     "output_type": "execute_result"
    }
   ],
   "source": [
    "img=np.array([[1,2,3,4,5],[6,7,8,9,10]])\n",
    "x,y = np.where((img>7) & (img<=9));\n",
    "print(x)\n",
    "print(y)\n",
    "img[x,y]=0;\n",
    "img"
   ]
  }
 ],
 "metadata": {
  "kernelspec": {
   "display_name": "Python 3",
   "language": "python",
   "name": "python3"
  },
  "language_info": {
   "codemirror_mode": {
    "name": "ipython",
    "version": 3
   },
   "file_extension": ".py",
   "mimetype": "text/x-python",
   "name": "python",
   "nbconvert_exporter": "python",
   "pygments_lexer": "ipython3",
   "version": "3.7.3"
  }
 },
 "nbformat": 4,
 "nbformat_minor": 4
}
